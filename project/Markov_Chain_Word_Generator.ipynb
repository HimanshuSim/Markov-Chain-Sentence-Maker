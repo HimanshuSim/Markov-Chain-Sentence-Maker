{
 "cells": [
  {
   "cell_type": "markdown",
   "id": "20c35954-7208-4f54-8a18-34638adc84e1",
   "metadata": {},
   "source": [
    "# Importing Helper Functions and Packages"
   ]
  },
  {
   "cell_type": "code",
   "execution_count": 1,
   "id": "a3cdc95e-0cdd-40f6-8bcb-94a1fe5ef2f0",
   "metadata": {},
   "outputs": [],
   "source": [
    "from helper import wordGenerator\n",
    "import numpy as np\n",
    "import matplotlib.pyplot as plt\n",
    "plt.style.use('ggplot')"
   ]
  },
  {
   "cell_type": "code",
   "execution_count": 2,
   "id": "b42d0f18-51bc-4ff5-bda6-30f6f56e9659",
   "metadata": {},
   "outputs": [],
   "source": [
    "def plot_currwordtonext(wordRobot):\n",
    "    xlabel = wordRobot.wordlist_\n",
    "    ylabel = xlabel\n",
    "    fig, ax = plt.subplots()\n",
    "    # Add the labels\n",
    "    ax.set_xticks(np.arange(0.5, len(xlabel)), labels = xlabel)\n",
    "    ax.set_yticks(np.arange(0.5, len(ylabel)), labels = ylabel)\n",
    "    #show the data\n",
    "    ax.pcolormesh(wordRobot.currword_nextwordtable_,edgecolors='k', linewidth=2)\n",
    "    ax.set_aspect('equal')\n",
    "    plt.show()\n",
    "    "
   ]
  },
  {
   "cell_type": "markdown",
   "id": "6c24a367-d8d3-4472-8e73-6aa63707db4d",
   "metadata": {},
   "source": [
    "# Basic String Input"
   ]
  },
  {
   "cell_type": "code",
   "execution_count": 3,
   "id": "a6b656ce-3ae1-4bdc-9c13-fed78e2f9ebe",
   "metadata": {},
   "outputs": [],
   "source": [
    "string_example = ' a quick brown fox jumped over a lazy dog'"
   ]
  },
  {
   "cell_type": "markdown",
   "id": "d2ecd038-5a9b-49ff-9b3b-23b9ed98d3c9",
   "metadata": {},
   "source": [
    "# Instantiating The Word Generator Object"
   ]
  },
  {
   "cell_type": "code",
   "execution_count": 4,
   "id": "54eda587-2d8e-404c-bcf2-e843355eed6d",
   "metadata": {},
   "outputs": [
    {
     "name": "stdout",
     "output_type": "stream",
     "text": [
      "All the unique words are as follows:\n",
      "1. a\n",
      "2. quick\n",
      "3. brown\n",
      "4. fox\n",
      "5. jumped\n",
      "6. over\n",
      "7. lazy\n",
      "8. dog\n"
     ]
    }
   ],
   "source": [
    "wordRobot = wordGenerator(string_example)\n",
    "print('All the unique words are as follows:')\n",
    "for i,word in enumerate(wordRobot.wordlist_,1):\n",
    "    print(f'{i}. {word}')"
   ]
  },
  {
   "cell_type": "markdown",
   "id": "716c90dd-af30-4246-9a2f-9a29ceff8783",
   "metadata": {},
   "source": [
    "# Next Word Given a Current Word\n",
    "\n",
    "To find the number of occurence of words appearing next to a corresponding word, we can use the data attribute of our `wordRobot` object called `currword_nextwordtable_`, this data attribute is also created during initialization"
   ]
  },
  {
   "cell_type": "code",
   "execution_count": 5,
   "id": "076b48c4-0cb2-4a4b-8a64-efcfc27521ec",
   "metadata": {},
   "outputs": [
    {
     "data": {
      "image/png": "[encoded data removed]",
      "text/plain": [
       "<Figure size 640x480 with 1 Axes>"
      ]
     },
     "metadata": {},
     "output_type": "display_data"
    }
   ],
   "source": [
    "wordRobot.currword_nextwordtable_\n",
    "plot_currwordtonext(wordRobot)"
   ]
  },
  {
   "cell_type": "code",
   "execution_count": 7,
   "id": "416c3641-efa6-458d-ac29-e4a1ff456544",
   "metadata": {},
   "outputs": [
    {
     "data": {
      "text/plain": [
       "array([[1, 6, 2, 0, 3, 4, 5, 7],\n",
       "       [2, 0, 1, 3, 4, 5, 6, 7],\n",
       "       [3, 0, 1, 2, 4, 5, 6, 7],\n",
       "       [4, 0, 2, 1, 3, 5, 6, 7],\n",
       "       [5, 0, 2, 1, 3, 4, 6, 7],\n",
       "       [0, 1, 2, 3, 4, 5, 6, 7],\n",
       "       [7, 0, 2, 1, 3, 4, 5, 6],\n",
       "       [0, 1, 2, 3, 4, 5, 6, 7]])"
      ]
     },
     "execution_count": 7,
     "metadata": {},
     "output_type": "execute_result"
    }
   ],
   "source": [
    "wordRobot.curr_next_sorted\n"
   ]
  },
  {
   "cell_type": "code",
   "execution_count": null,
   "id": "015be2b8-713c-436b-ae4a-614187ac8bf7",
   "metadata": {},
   "outputs": [],
   "source": []
  }
 ],
 "metadata": {
  "kernelspec": {
   "display_name": "Python 3 (ipykernel)",
   "language": "python",
   "name": "python3"
  },
  "language_info": {
   "codemirror_mode": {
    "name": "ipython",
    "version": 3
   },
   "file_extension": ".py",
   "mimetype": "text/x-python",
   "name": "python",
   "nbconvert_exporter": "python",
   "pygments_lexer": "ipython3",
   "version": "3.10.12"
  }
 },
 "nbformat": 4,
 "nbformat_minor": 5
}
